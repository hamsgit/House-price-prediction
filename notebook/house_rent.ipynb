{
  "nbformat": 4,
  "nbformat_minor": 0,
  "metadata": {
    "colab": {
      "provenance": []
    },
    "kernelspec": {
      "name": "python3",
      "display_name": "Python 3"
    },
    "language_info": {
      "name": "python"
    }
  },
  "cells": [
    {
      "cell_type": "code",
      "execution_count": 1,
      "metadata": {
        "colab": {
          "base_uri": "https://localhost:8080/"
        },
        "id": "oc6Z6a5baTAj",
        "outputId": "b40a7483-ec60-47d3-ef3b-37783317a7e3"
      },
      "outputs": [
        {
          "output_type": "stream",
          "name": "stdout",
          "text": [
            "Requirement already satisfied: pandas in /usr/local/lib/python3.12/dist-packages (2.2.2)\n",
            "Requirement already satisfied: scikit-learn in /usr/local/lib/python3.12/dist-packages (1.6.1)\n",
            "Requirement already satisfied: numpy>=1.26.0 in /usr/local/lib/python3.12/dist-packages (from pandas) (2.0.2)\n",
            "Requirement already satisfied: python-dateutil>=2.8.2 in /usr/local/lib/python3.12/dist-packages (from pandas) (2.9.0.post0)\n",
            "Requirement already satisfied: pytz>=2020.1 in /usr/local/lib/python3.12/dist-packages (from pandas) (2025.2)\n",
            "Requirement already satisfied: tzdata>=2022.7 in /usr/local/lib/python3.12/dist-packages (from pandas) (2025.2)\n",
            "Requirement already satisfied: scipy>=1.6.0 in /usr/local/lib/python3.12/dist-packages (from scikit-learn) (1.16.1)\n",
            "Requirement already satisfied: joblib>=1.2.0 in /usr/local/lib/python3.12/dist-packages (from scikit-learn) (1.5.2)\n",
            "Requirement already satisfied: threadpoolctl>=3.1.0 in /usr/local/lib/python3.12/dist-packages (from scikit-learn) (3.6.0)\n",
            "Requirement already satisfied: six>=1.5 in /usr/local/lib/python3.12/dist-packages (from python-dateutil>=2.8.2->pandas) (1.17.0)\n"
          ]
        }
      ],
      "source": [
        "# Install required packages\n",
        "!pip install pandas scikit-learn\n"
      ]
    },
    {
      "cell_type": "markdown",
      "source": [
        "Load Dataset into Colab"
      ],
      "metadata": {
        "id": "xg1AbxsVara-"
      }
    },
    {
      "cell_type": "code",
      "source": [
        "import pandas as pd\n",
        "\n",
        "# Load dataset\n",
        "df = pd.read_csv(\"/content/House_Rent_Dataset.csv\")\n",
        "\n",
        "# Display first 5 rows\n",
        "print(df.head())\n",
        "\n",
        "# Show dataset shape (rows, columns)\n",
        "print(\"Shape of dataset:\", df.shape)\n"
      ],
      "metadata": {
        "colab": {
          "base_uri": "https://localhost:8080/"
        },
        "id": "P2VSDn31arER",
        "outputId": "a4a8a9bd-999a-46b4-979d-1fc79d5863ea"
      },
      "execution_count": 2,
      "outputs": [
        {
          "output_type": "stream",
          "name": "stdout",
          "text": [
            "    Posted On  BHK   Rent  Size            Floor    Area Type  \\\n",
            "0  2022-05-18    2  10000  1100  Ground out of 2   Super Area   \n",
            "1  2022-05-13    2  20000   800       1 out of 3   Super Area   \n",
            "2  2022-05-16    2  17000  1000       1 out of 3   Super Area   \n",
            "3  2022-07-04    2  10000   800       1 out of 2   Super Area   \n",
            "4  2022-05-09    2   7500   850       1 out of 2  Carpet Area   \n",
            "\n",
            "              Area Locality     City Furnishing Status  Tenant Preferred  \\\n",
            "0                    Bandel  Kolkata       Unfurnished  Bachelors/Family   \n",
            "1  Phool Bagan, Kankurgachi  Kolkata    Semi-Furnished  Bachelors/Family   \n",
            "2   Salt Lake City Sector 2  Kolkata    Semi-Furnished  Bachelors/Family   \n",
            "3               Dumdum Park  Kolkata       Unfurnished  Bachelors/Family   \n",
            "4             South Dum Dum  Kolkata       Unfurnished         Bachelors   \n",
            "\n",
            "   Bathroom Point of Contact  \n",
            "0         2    Contact Owner  \n",
            "1         1    Contact Owner  \n",
            "2         1    Contact Owner  \n",
            "3         1    Contact Owner  \n",
            "4         1    Contact Owner  \n",
            "Shape of dataset: (4746, 12)\n"
          ]
        }
      ]
    },
    {
      "cell_type": "markdown",
      "source": [
        "Explore Data (EDA Basics)"
      ],
      "metadata": {
        "id": "Z9HowEx4btCk"
      }
    },
    {
      "cell_type": "code",
      "source": [
        "# See column names\n",
        "print(\"Columns:\", df.columns)\n",
        "\n",
        "# Data types & missing values\n",
        "print(\"\\nDataset Info:\")\n",
        "print(df.info())\n",
        "\n",
        "# Summary statistics for numeric columns\n",
        "print(\"\\nSummary Statistics:\")\n",
        "print(df.describe())\n",
        "\n",
        "# Check for missing values\n",
        "print(\"\\nMissing Values:\")\n",
        "print(df.isnull().sum())\n"
      ],
      "metadata": {
        "colab": {
          "base_uri": "https://localhost:8080/"
        },
        "id": "DkEqAGmObsjV",
        "outputId": "983ae44e-344a-457d-8c63-6e8230484728"
      },
      "execution_count": 3,
      "outputs": [
        {
          "output_type": "stream",
          "name": "stdout",
          "text": [
            "Columns: Index(['Posted On', 'BHK', 'Rent', 'Size', 'Floor', 'Area Type',\n",
            "       'Area Locality', 'City', 'Furnishing Status', 'Tenant Preferred',\n",
            "       'Bathroom', 'Point of Contact'],\n",
            "      dtype='object')\n",
            "\n",
            "Dataset Info:\n",
            "<class 'pandas.core.frame.DataFrame'>\n",
            "RangeIndex: 4746 entries, 0 to 4745\n",
            "Data columns (total 12 columns):\n",
            " #   Column             Non-Null Count  Dtype \n",
            "---  ------             --------------  ----- \n",
            " 0   Posted On          4746 non-null   object\n",
            " 1   BHK                4746 non-null   int64 \n",
            " 2   Rent               4746 non-null   int64 \n",
            " 3   Size               4746 non-null   int64 \n",
            " 4   Floor              4746 non-null   object\n",
            " 5   Area Type          4746 non-null   object\n",
            " 6   Area Locality      4746 non-null   object\n",
            " 7   City               4746 non-null   object\n",
            " 8   Furnishing Status  4746 non-null   object\n",
            " 9   Tenant Preferred   4746 non-null   object\n",
            " 10  Bathroom           4746 non-null   int64 \n",
            " 11  Point of Contact   4746 non-null   object\n",
            "dtypes: int64(4), object(8)\n",
            "memory usage: 445.1+ KB\n",
            "None\n",
            "\n",
            "Summary Statistics:\n",
            "               BHK          Rent         Size     Bathroom\n",
            "count  4746.000000  4.746000e+03  4746.000000  4746.000000\n",
            "mean      2.083860  3.499345e+04   967.490729     1.965866\n",
            "std       0.832256  7.810641e+04   634.202328     0.884532\n",
            "min       1.000000  1.200000e+03    10.000000     1.000000\n",
            "25%       2.000000  1.000000e+04   550.000000     1.000000\n",
            "50%       2.000000  1.600000e+04   850.000000     2.000000\n",
            "75%       3.000000  3.300000e+04  1200.000000     2.000000\n",
            "max       6.000000  3.500000e+06  8000.000000    10.000000\n",
            "\n",
            "Missing Values:\n",
            "Posted On            0\n",
            "BHK                  0\n",
            "Rent                 0\n",
            "Size                 0\n",
            "Floor                0\n",
            "Area Type            0\n",
            "Area Locality        0\n",
            "City                 0\n",
            "Furnishing Status    0\n",
            "Tenant Preferred     0\n",
            "Bathroom             0\n",
            "Point of Contact     0\n",
            "dtype: int64\n"
          ]
        }
      ]
    },
    {
      "cell_type": "markdown",
      "source": [
        "#Preprocessing Plan\n",
        "\n",
        "\n",
        "\n",
        "Drop irrelevant columns:\n",
        "\n",
        "Posted On (date not useful now)\n",
        "\n",
        "Point of Contact (not useful for prediction)\n",
        "\n",
        "Handle “Floor” column:\n",
        "\n",
        "Example: \"Ground out of 2\", \"3 out of 5\".\n",
        "\n",
        "We’ll split into two numeric features:\n",
        "\n",
        "Current Floor (e.g., Ground = 0, 3 = 3)\n",
        "\n",
        "Total Floors (e.g., 2, 5, etc.)\n",
        "\n",
        "Encode categorical features:\n",
        "\n",
        "Area Type, City, Furnishing Status, Tenant Preferred → convert to numbers using Label Encoding / OneHotEncoding.\n",
        "\n",
        "Area Locality has too many unique values → we’ll drop it (too detailed, won’t help model)."
      ],
      "metadata": {
        "id": "EzP4ggkqb6WQ"
      }
    },
    {
      "cell_type": "code",
      "source": [
        "# Drop irrelevant columns\n",
        "df = df.drop([\"Posted On\", \"Point of Contact\", \"Area Locality\"], axis=1)\n",
        "\n",
        "# Handle Floor column\n",
        "df[['Current Floor', 'Total Floors']] = df['Floor'].str.split(' out of ', expand=True)\n",
        "\n",
        "# Replace \"Ground\" with 0 and convert to numeric\n",
        "df['Current Floor'] = df['Current Floor'].replace('Ground', 0)\n",
        "df['Current Floor'] = pd.to_numeric(df['Current Floor'], errors='coerce')\n",
        "df['Total Floors'] = pd.to_numeric(df['Total Floors'], errors='coerce')\n",
        "\n",
        "# Drop old Floor column\n",
        "df = df.drop('Floor', axis=1)\n",
        "\n",
        "# Encode categorical variables\n",
        "from sklearn.preprocessing import LabelEncoder\n",
        "\n",
        "categorical_cols = ['Area Type', 'City', 'Furnishing Status', 'Tenant Preferred']\n",
        "\n",
        "le = LabelEncoder()\n",
        "for col in categorical_cols:\n",
        "    df[col] = le.fit_transform(df[col])\n",
        "\n",
        "# Check processed dataset\n",
        "print(df.head())\n",
        "print(\"\\nProcessed Shape:\", df.shape)\n"
      ],
      "metadata": {
        "colab": {
          "base_uri": "https://localhost:8080/"
        },
        "id": "jsEqwhZdb_i8",
        "outputId": "6a2ff191-3bab-48e5-cefa-bf085f4b09c1"
      },
      "execution_count": 4,
      "outputs": [
        {
          "output_type": "stream",
          "name": "stdout",
          "text": [
            "   BHK   Rent  Size  Area Type  City  Furnishing Status  Tenant Preferred  \\\n",
            "0    2  10000  1100          2     4                  2                 1   \n",
            "1    2  20000   800          2     4                  1                 1   \n",
            "2    2  17000  1000          2     4                  1                 1   \n",
            "3    2  10000   800          2     4                  2                 1   \n",
            "4    2   7500   850          1     4                  2                 0   \n",
            "\n",
            "   Bathroom  Current Floor  Total Floors  \n",
            "0         2            0.0           2.0  \n",
            "1         1            1.0           3.0  \n",
            "2         1            1.0           3.0  \n",
            "3         1            1.0           2.0  \n",
            "4         1            1.0           2.0  \n",
            "\n",
            "Processed Shape: (4746, 10)\n"
          ]
        }
      ]
    },
    {
      "cell_type": "markdown",
      "source": [
        "Train-Test Split"
      ],
      "metadata": {
        "id": "iaiy5Um5ccFb"
      }
    },
    {
      "cell_type": "code",
      "source": [
        "from sklearn.model_selection import train_test_split\n",
        "\n",
        "# Features (X) and Target (y)\n",
        "X = df.drop(\"Rent\", axis=1)\n",
        "y = df[\"Rent\"]\n",
        "\n",
        "# Train-test split (80-20)\n",
        "X_train, X_test, y_train, y_test = train_test_split(X, y, test_size=0.2, random_state=42)\n",
        "\n",
        "print(\"Training set shape:\", X_train.shape)\n",
        "print(\"Test set shape:\", X_test.shape)\n"
      ],
      "metadata": {
        "colab": {
          "base_uri": "https://localhost:8080/"
        },
        "id": "1o7c7pbCcbF1",
        "outputId": "65fb25c2-729f-4960-8ec0-d6d4caf1fef0"
      },
      "execution_count": 5,
      "outputs": [
        {
          "output_type": "stream",
          "name": "stdout",
          "text": [
            "Training set shape: (3796, 9)\n",
            "Test set shape: (950, 9)\n"
          ]
        }
      ]
    },
    {
      "cell_type": "markdown",
      "source": [
        "Scaling the data"
      ],
      "metadata": {
        "id": "wIlctSfhcpks"
      }
    },
    {
      "cell_type": "code",
      "source": [
        "from sklearn.preprocessing import StandardScaler\n",
        "\n",
        "# Initialize scaler\n",
        "scaler = StandardScaler()\n",
        "\n",
        "# Fit on training data, transform both train and test\n",
        "X_train_scaled = scaler.fit_transform(X_train)\n",
        "X_test_scaled = scaler.transform(X_test)\n",
        "\n",
        "print(\"Scaled Training Data Shape:\", X_train_scaled.shape)\n",
        "print(\"Scaled Test Data Shape:\", X_test_scaled.shape)\n"
      ],
      "metadata": {
        "colab": {
          "base_uri": "https://localhost:8080/"
        },
        "id": "_VnOQNXdcrLq",
        "outputId": "443dbf01-aa8a-43cb-94c4-238034e2e2fb"
      },
      "execution_count": 6,
      "outputs": [
        {
          "output_type": "stream",
          "name": "stdout",
          "text": [
            "Scaled Training Data Shape: (3796, 9)\n",
            "Scaled Test Data Shape: (950, 9)\n"
          ]
        }
      ]
    },
    {
      "cell_type": "markdown",
      "source": [
        "Linear Regression"
      ],
      "metadata": {
        "id": "0LJSEpjodN2-"
      }
    },
    {
      "cell_type": "markdown",
      "source": [
        "Check for NaNs"
      ],
      "metadata": {
        "id": "-WqXVnkYdt4M"
      }
    },
    {
      "cell_type": "code",
      "source": [
        "import numpy as np\n",
        "\n",
        "print(\"NaNs in training set:\", np.isnan(X_train_scaled).sum())\n",
        "print(\"NaNs in test set:\", np.isnan(X_test_scaled).sum())\n"
      ],
      "metadata": {
        "colab": {
          "base_uri": "https://localhost:8080/"
        },
        "id": "xY6oZTq3dZPX",
        "outputId": "58cdf33a-8edf-4fdb-bbf4-36d5ccd631b7"
      },
      "execution_count": 8,
      "outputs": [
        {
          "output_type": "stream",
          "name": "stdout",
          "text": [
            "NaNs in training set: 32\n",
            "NaNs in test set: 6\n"
          ]
        }
      ]
    },
    {
      "cell_type": "markdown",
      "source": [
        "Fill NaNs with median of the column"
      ],
      "metadata": {
        "id": "qFxmfOQjdjs0"
      }
    },
    {
      "cell_type": "code",
      "source": [
        "from sklearn.impute import SimpleImputer\n",
        "\n",
        "# Initialize imputer to fill NaNs with median\n",
        "imputer = SimpleImputer(strategy='median')\n",
        "\n",
        "# Fit on training data and transform both train and test\n",
        "X_train_scaled = imputer.fit_transform(X_train_scaled)\n",
        "X_test_scaled = imputer.transform(X_test_scaled)\n",
        "\n",
        "# Check again for NaNs\n",
        "import numpy as np\n",
        "print(\"NaNs in training set after imputation:\", np.isnan(X_train_scaled).sum())\n",
        "print(\"NaNs in test set after imputation:\", np.isnan(X_test_scaled).sum())\n",
        "\n"
      ],
      "metadata": {
        "colab": {
          "base_uri": "https://localhost:8080/"
        },
        "id": "hO1UC5Osdkl9",
        "outputId": "c11a9d7c-9aeb-4877-eed5-4e199096d20f"
      },
      "execution_count": 9,
      "outputs": [
        {
          "output_type": "stream",
          "name": "stdout",
          "text": [
            "NaNs in training set after imputation: 0\n",
            "NaNs in test set after imputation: 0\n"
          ]
        }
      ]
    },
    {
      "cell_type": "markdown",
      "source": [
        "Train Linear Regression Model"
      ],
      "metadata": {
        "id": "OPeGMoU7dsJM"
      }
    },
    {
      "cell_type": "code",
      "source": [
        "from sklearn.linear_model import LinearRegression\n",
        "from sklearn.metrics import mean_squared_error, r2_score\n",
        "\n",
        "# Initialize Linear Regression\n",
        "lin_reg = LinearRegression()\n",
        "\n",
        "# Train the model\n",
        "lin_reg.fit(X_train_scaled, y_train)\n",
        "\n",
        "# Predictions\n",
        "y_pred_train = lin_reg.predict(X_train_scaled)\n",
        "y_pred_test = lin_reg.predict(X_test_scaled)\n",
        "\n",
        "# Evaluate\n",
        "mse_train = mean_squared_error(y_train, y_pred_train)\n",
        "mse_test = mean_squared_error(y_test, y_pred_test)\n",
        "r2_train = r2_score(y_train, y_pred_train)\n",
        "r2_test = r2_score(y_test, y_pred_test)\n",
        "\n",
        "print(\"Linear Regression Results:\")\n",
        "print(\"Train MSE:\", mse_train)\n",
        "print(\"Test MSE:\", mse_test)\n",
        "print(\"Train R²:\", r2_train)\n",
        "print(\"Test R²:\", r2_test)\n"
      ],
      "metadata": {
        "colab": {
          "base_uri": "https://localhost:8080/"
        },
        "id": "axcG1TLfdtD1",
        "outputId": "cd18b289-4ae4-47ac-a101-67b141e92d0c"
      },
      "execution_count": 10,
      "outputs": [
        {
          "output_type": "stream",
          "name": "stdout",
          "text": [
            "Linear Regression Results:\n",
            "Train MSE: 4917224830.29888\n",
            "Test MSE: 2134057395.8914723\n",
            "Train R²: 0.2581407149699284\n",
            "Test R²: 0.46452867967847356\n"
          ]
        }
      ]
    },
    {
      "cell_type": "markdown",
      "source": [
        "Train Random Forest Regressor"
      ],
      "metadata": {
        "id": "bk799jv-d-Yo"
      }
    },
    {
      "cell_type": "code",
      "source": [
        "from sklearn.ensemble import RandomForestRegressor\n",
        "\n",
        "# Initialize model\n",
        "rf_reg = RandomForestRegressor(n_estimators=100, random_state=42)\n",
        "\n",
        "# Train\n",
        "rf_reg.fit(X_train_scaled, y_train)\n",
        "\n",
        "# Predictions\n",
        "y_pred_train_rf = rf_reg.predict(X_train_scaled)\n",
        "y_pred_test_rf = rf_reg.predict(X_test_scaled)\n",
        "\n",
        "# Evaluation\n",
        "mse_train_rf = mean_squared_error(y_train, y_pred_train_rf)\n",
        "mse_test_rf = mean_squared_error(y_test, y_pred_test_rf)\n",
        "r2_train_rf = r2_score(y_train, y_pred_train_rf)\n",
        "r2_test_rf = r2_score(y_test, y_pred_test_rf)\n",
        "\n",
        "print(\"Random Forest Results:\")\n",
        "print(\"Train MSE:\", mse_train_rf)\n",
        "print(\"Test MSE:\", mse_test_rf)\n",
        "print(\"Train R²:\", r2_train_rf)\n",
        "print(\"Test R²:\", r2_test_rf)\n"
      ],
      "metadata": {
        "colab": {
          "base_uri": "https://localhost:8080/"
        },
        "id": "VcgQdNs1d_AV",
        "outputId": "740c4d98-9b6b-488d-e412-c7fec4144da0"
      },
      "execution_count": 11,
      "outputs": [
        {
          "output_type": "stream",
          "name": "stdout",
          "text": [
            "Random Forest Results:\n",
            "Train MSE: 841508732.7666111\n",
            "Test MSE: 1983606037.7670372\n",
            "Train R²: 0.8730419925096542\n",
            "Test R²: 0.5022794859755104\n"
          ]
        }
      ]
    },
    {
      "cell_type": "code",
      "source": [
        "import joblib\n",
        "\n",
        "# Save Random Forest model\n",
        "joblib.dump(rf_reg, \"house_rent_rf_model.pkl\")\n",
        "\n",
        "# Save the scaler\n",
        "joblib.dump(scaler, \"scaler.pkl\")\n",
        "\n",
        "print(\"Model and scaler saved successfully!\")\n"
      ],
      "metadata": {
        "colab": {
          "base_uri": "https://localhost:8080/"
        },
        "id": "YktS-tq6eSCi",
        "outputId": "8c3fbaf9-566f-4dad-f4b5-3560a42135b4"
      },
      "execution_count": 12,
      "outputs": [
        {
          "output_type": "stream",
          "name": "stdout",
          "text": [
            "Model and scaler saved successfully!\n"
          ]
        }
      ]
    },
    {
      "cell_type": "code",
      "source": [
        "import pandas as pd\n",
        "\n",
        "# Example new data\n",
        "new_data = pd.DataFrame({\n",
        "    'BHK': [2],\n",
        "    'Size': [950],\n",
        "    'Area Type': [2],           # Encoded same as training (LabelEncoder)\n",
        "    'City': [4],                # Encoded same as training\n",
        "    'Furnishing Status': [1],   # Encoded same as training\n",
        "    'Tenant Preferred': [1],    # Encoded same as training\n",
        "    'Bathroom': [2],\n",
        "    'Current Floor': [1],\n",
        "    'Total Floors': [3]\n",
        "})\n"
      ],
      "metadata": {
        "id": "cz0DCP1reVc2"
      },
      "execution_count": 14,
      "outputs": []
    },
    {
      "cell_type": "code",
      "source": [
        "import joblib\n",
        "\n",
        "# Load model and scaler\n",
        "model = joblib.load(\"house_rent_rf_model.pkl\")\n",
        "scaler = joblib.load(\"scaler.pkl\")\n"
      ],
      "metadata": {
        "id": "t4raTUbiejTc"
      },
      "execution_count": 15,
      "outputs": []
    },
    {
      "cell_type": "code",
      "source": [
        "new_data_scaled = scaler.transform(new_data)\n"
      ],
      "metadata": {
        "id": "aoQBWadnenBd"
      },
      "execution_count": 16,
      "outputs": []
    },
    {
      "cell_type": "code",
      "source": [
        "predicted_rent = model.predict(new_data_scaled)\n",
        "print(\"Predicted Rent:\", predicted_rent[0])\n"
      ],
      "metadata": {
        "colab": {
          "base_uri": "https://localhost:8080/"
        },
        "id": "87aOgDQIepgm",
        "outputId": "636b9cf6-8024-44dc-9188-e1a5b0fff77a"
      },
      "execution_count": 17,
      "outputs": [
        {
          "output_type": "stream",
          "name": "stdout",
          "text": [
            "Predicted Rent: 16763.333333333336\n"
          ]
        }
      ]
    },
    {
      "cell_type": "code",
      "source": [
        "import pandas as pd\n",
        "\n",
        "# Example: 3 new houses\n",
        "new_data_batch = pd.DataFrame({\n",
        "    'BHK': [2, 3, 1],\n",
        "    'Size': [950, 1200, 500],\n",
        "    'Area Type': [2, 2, 1],          # Encoded same as training\n",
        "    'City': [4, 4, 3],               # Encoded same as training\n",
        "    'Furnishing Status': [1, 2, 0],  # Encoded same as training\n",
        "    'Tenant Preferred': [1, 1, 0],   # Encoded same as training\n",
        "    'Bathroom': [2, 3, 1],\n",
        "    'Current Floor': [1, 2, 0],\n",
        "    'Total Floors': [3, 5, 2]\n",
        "})\n"
      ],
      "metadata": {
        "id": "9HyEbePTe-Dk"
      },
      "execution_count": 18,
      "outputs": []
    },
    {
      "cell_type": "code",
      "source": [
        "new_data_scaled = scaler.transform(new_data_batch)\n",
        "predicted_rents = model.predict(new_data_scaled)\n",
        "\n",
        "# Display results\n",
        "new_data_batch['Predicted Rent'] = predicted_rents\n",
        "print(new_data_batch)\n"
      ],
      "metadata": {
        "colab": {
          "base_uri": "https://localhost:8080/"
        },
        "id": "wXKedicpfE7d",
        "outputId": "916713dd-f7ae-4355-84e6-7057e3ffddbb"
      },
      "execution_count": 19,
      "outputs": [
        {
          "output_type": "stream",
          "name": "stdout",
          "text": [
            "   BHK  Size  Area Type  City  Furnishing Status  Tenant Preferred  Bathroom  \\\n",
            "0    2   950          2     4                  1                 1         2   \n",
            "1    3  1200          2     4                  2                 1         3   \n",
            "2    1   500          1     3                  0                 0         1   \n",
            "\n",
            "   Current Floor  Total Floors  Predicted Rent  \n",
            "0              1             3    16763.333333  \n",
            "1              2             5    15730.000000  \n",
            "2              0             2     9675.000000  \n"
          ]
        }
      ]
    },
    {
      "cell_type": "code",
      "source": [
        "from google.colab import files\n",
        "\n",
        "files.download(\"house_rent_rf_model.pkl\")\n",
        "files.download(\"scaler.pkl\")\n"
      ],
      "metadata": {
        "colab": {
          "base_uri": "https://localhost:8080/",
          "height": 17
        },
        "id": "ztxlVfBvh6B9",
        "outputId": "51115537-f206-4374-b9fc-e643cda445fc"
      },
      "execution_count": 25,
      "outputs": [
        {
          "output_type": "display_data",
          "data": {
            "text/plain": [
              "<IPython.core.display.Javascript object>"
            ],
            "application/javascript": [
              "\n",
              "    async function download(id, filename, size) {\n",
              "      if (!google.colab.kernel.accessAllowed) {\n",
              "        return;\n",
              "      }\n",
              "      const div = document.createElement('div');\n",
              "      const label = document.createElement('label');\n",
              "      label.textContent = `Downloading \"${filename}\": `;\n",
              "      div.appendChild(label);\n",
              "      const progress = document.createElement('progress');\n",
              "      progress.max = size;\n",
              "      div.appendChild(progress);\n",
              "      document.body.appendChild(div);\n",
              "\n",
              "      const buffers = [];\n",
              "      let downloaded = 0;\n",
              "\n",
              "      const channel = await google.colab.kernel.comms.open(id);\n",
              "      // Send a message to notify the kernel that we're ready.\n",
              "      channel.send({})\n",
              "\n",
              "      for await (const message of channel.messages) {\n",
              "        // Send a message to notify the kernel that we're ready.\n",
              "        channel.send({})\n",
              "        if (message.buffers) {\n",
              "          for (const buffer of message.buffers) {\n",
              "            buffers.push(buffer);\n",
              "            downloaded += buffer.byteLength;\n",
              "            progress.value = downloaded;\n",
              "          }\n",
              "        }\n",
              "      }\n",
              "      const blob = new Blob(buffers, {type: 'application/binary'});\n",
              "      const a = document.createElement('a');\n",
              "      a.href = window.URL.createObjectURL(blob);\n",
              "      a.download = filename;\n",
              "      div.appendChild(a);\n",
              "      a.click();\n",
              "      div.remove();\n",
              "    }\n",
              "  "
            ]
          },
          "metadata": {}
        },
        {
          "output_type": "display_data",
          "data": {
            "text/plain": [
              "<IPython.core.display.Javascript object>"
            ],
            "application/javascript": [
              "download(\"download_c4b7fc0a-620d-4784-a558-ea392accb469\", \"house_rent_rf_model.pkl\", 30772945)"
            ]
          },
          "metadata": {}
        },
        {
          "output_type": "display_data",
          "data": {
            "text/plain": [
              "<IPython.core.display.Javascript object>"
            ],
            "application/javascript": [
              "\n",
              "    async function download(id, filename, size) {\n",
              "      if (!google.colab.kernel.accessAllowed) {\n",
              "        return;\n",
              "      }\n",
              "      const div = document.createElement('div');\n",
              "      const label = document.createElement('label');\n",
              "      label.textContent = `Downloading \"${filename}\": `;\n",
              "      div.appendChild(label);\n",
              "      const progress = document.createElement('progress');\n",
              "      progress.max = size;\n",
              "      div.appendChild(progress);\n",
              "      document.body.appendChild(div);\n",
              "\n",
              "      const buffers = [];\n",
              "      let downloaded = 0;\n",
              "\n",
              "      const channel = await google.colab.kernel.comms.open(id);\n",
              "      // Send a message to notify the kernel that we're ready.\n",
              "      channel.send({})\n",
              "\n",
              "      for await (const message of channel.messages) {\n",
              "        // Send a message to notify the kernel that we're ready.\n",
              "        channel.send({})\n",
              "        if (message.buffers) {\n",
              "          for (const buffer of message.buffers) {\n",
              "            buffers.push(buffer);\n",
              "            downloaded += buffer.byteLength;\n",
              "            progress.value = downloaded;\n",
              "          }\n",
              "        }\n",
              "      }\n",
              "      const blob = new Blob(buffers, {type: 'application/binary'});\n",
              "      const a = document.createElement('a');\n",
              "      a.href = window.URL.createObjectURL(blob);\n",
              "      a.download = filename;\n",
              "      div.appendChild(a);\n",
              "      a.click();\n",
              "      div.remove();\n",
              "    }\n",
              "  "
            ]
          },
          "metadata": {}
        },
        {
          "output_type": "display_data",
          "data": {
            "text/plain": [
              "<IPython.core.display.Javascript object>"
            ],
            "application/javascript": [
              "download(\"download_6e22430c-2f32-484e-8933-1e9cba018718\", \"scaler.pkl\", 1247)"
            ]
          },
          "metadata": {}
        }
      ]
    }
  ]
}